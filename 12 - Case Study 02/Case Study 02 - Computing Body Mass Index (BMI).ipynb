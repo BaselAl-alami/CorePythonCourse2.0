{
 "cells": [
  {
   "cell_type": "markdown",
   "metadata": {},
   "source": [
    "# Case Study 02 - Computing Body Mass Index (BMI)\n",
    "\n",
    "- Body Mass Index (BMI) is measure of health based on height and weight.\n",
    "- It can be calculated by taking your weight in kilograms and dividing it by the square of your height in meters.\n",
    "- The interpretation of BMI for people 20 years or older is as follows:\n",
    "\n",
    "| BMI | Interpretation |\n",
    "|---- |--------------- |\n",
    "| Below 18.5| Underweight |\n",
    "| 18.5 - 24. 9 | Normal |\n",
    "| 25.0 - 29.9 | Overweight |\n",
    "| Above 30.0 | Obese |\n",
    "\n",
    "### Write a program that promots the user to enter their weight and height and displays the BMI."
   ]
  },
  {
   "cell_type": "markdown",
   "metadata": {},
   "source": [
    "#### 1- Input"
   ]
  },
  {
   "cell_type": "code",
   "execution_count": null,
   "metadata": {},
   "outputs": [],
   "source": [
    "weight = ???\n",
    "height = ???"
   ]
  },
  {
   "cell_type": "markdown",
   "metadata": {},
   "source": [
    "#### 2- Processing\n",
    "*Try to use functions!*"
   ]
  },
  {
   "cell_type": "code",
   "execution_count": null,
   "metadata": {},
   "outputs": [],
   "source": [
    "bmi = ???\n",
    "result = ???"
   ]
  },
  {
   "cell_type": "markdown",
   "metadata": {},
   "source": [
    "#### 3- Output"
   ]
  },
  {
   "cell_type": "code",
   "execution_count": null,
   "metadata": {},
   "outputs": [],
   "source": [
    "print(f\"Your BMI is {} and you are {}!\")"
   ]
  }
 ],
 "metadata": {
  "kernelspec": {
   "display_name": "Python 3",
   "language": "python",
   "name": "python3"
  },
  "language_info": {
   "codemirror_mode": {
    "name": "ipython",
    "version": 3
   },
   "file_extension": ".py",
   "mimetype": "text/x-python",
   "name": "python",
   "nbconvert_exporter": "python",
   "pygments_lexer": "ipython3",
   "version": "3.8.3"
  }
 },
 "nbformat": 4,
 "nbformat_minor": 4
}
