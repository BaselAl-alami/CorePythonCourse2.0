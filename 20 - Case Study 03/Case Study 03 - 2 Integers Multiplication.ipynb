{
 "cells": [
  {
   "cell_type": "markdown",
   "metadata": {},
   "source": [
    "# Case Study 03\n",
    "\n",
    "\n",
    "## CS3.1 - Find if 2 integers multiplies to a certain number.\n",
    "\n",
    "- Given a list of numbers and a goal number, return if you can find any 2 numbers that multiplies to the goal.\n",
    "- Examples:\n",
    "  - numbers: `[1, 2, 3, 4, 5]`, goal: `20` --> `True` since 4*5 = 20.\n",
    "  - numbers: `[1, 2, 3, 4, 5]`, goal: `100` --> `False`\n",
    "- Write the solution as a function and test it with multiple test cases, starting with the 2 examples above."
   ]
  },
  {
   "cell_type": "code",
   "execution_count": null,
   "metadata": {},
   "outputs": [],
   "source": []
  },
  {
   "cell_type": "markdown",
   "metadata": {},
   "source": [
    "## CS3.2 - Find 2 integers that multiplies to a certain number.\n",
    "\n",
    "- Given a list of numbers and a goal number, check if you can find any 2 numbers that multiplies to the goal, and return them. Order is not important.\n",
    "- Examples:\n",
    "  - numbers: `[1, 2, 3, 4, 5]`, goal: `20` --> `(4, 5)` since 4*5 = 20.\n",
    "  - numbers: `[1, 2, 3, 4, 5]`, goal: `100` --> `None`\n",
    "- Write the solution as a function and test it with multiple test cases, starting with the 2 examples above."
   ]
  },
  {
   "cell_type": "code",
   "execution_count": null,
   "metadata": {},
   "outputs": [],
   "source": []
  }
 ],
 "metadata": {
  "kernelspec": {
   "display_name": "Python 3",
   "language": "python",
   "name": "python3"
  },
  "language_info": {
   "codemirror_mode": {
    "name": "ipython",
    "version": 3
   },
   "file_extension": ".py",
   "mimetype": "text/x-python",
   "name": "python",
   "nbconvert_exporter": "python",
   "pygments_lexer": "ipython3",
   "version": "3.8.3"
  }
 },
 "nbformat": 4,
 "nbformat_minor": 4
}
