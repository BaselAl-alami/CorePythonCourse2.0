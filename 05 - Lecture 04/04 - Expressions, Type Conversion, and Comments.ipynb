{
 "cells": [
  {
   "cell_type": "markdown",
   "metadata": {},
   "source": [
    "# 4.1 Expressions\n",
    "\n",
    "- Expression: A combination of numbers, symbols, or other variables that produces a result when evaluated.\n",
    "\n",
    "- Blablabla, again please?\n",
    "    - Okay, this example (length * width) is an expression because it's a combination of:\n",
    "        - Variables (like lenth and width)\n",
    "        - Symbols (like the multiplication operator (yes that's the star, it's called the multiplication operator, just another fancy name for a silly thing))\n",
    "    - Expressions could contain numbers as well, like 2, 4.9, -15."
   ]
  },
  {
   "cell_type": "code",
   "execution_count": 1,
   "metadata": {},
   "outputs": [
    {
     "data": {
      "text/plain": [
       "23"
      ]
     },
     "execution_count": 1,
     "metadata": {},
     "output_type": "execute_result"
    }
   ],
   "source": [
    "26 - 3"
   ]
  },
  {
   "cell_type": "code",
   "execution_count": 3,
   "metadata": {},
   "outputs": [
    {
     "name": "stdout",
     "output_type": "stream",
     "text": [
      "23\n"
     ]
    }
   ],
   "source": [
    "a = 7\n",
    "\n",
    "print(10 * 3 - a)"
   ]
  },
  {
   "cell_type": "code",
   "execution_count": 4,
   "metadata": {},
   "outputs": [
    {
     "name": "stdout",
     "output_type": "stream",
     "text": [
      "7 23 161\n"
     ]
    }
   ],
   "source": [
    "a = 7\n",
    "b = 10 * 3 - a\n",
    "c = a * b\n",
    "\n",
    "print(a, b, c)"
   ]
  },
  {
   "cell_type": "markdown",
   "metadata": {},
   "source": [
    "# 4.2 Type Conversion"
   ]
  },
  {
   "cell_type": "code",
   "execution_count": 6,
   "metadata": {},
   "outputs": [
    {
     "data": {
      "text/plain": [
       "7.6"
      ]
     },
     "execution_count": 6,
     "metadata": {},
     "output_type": "execute_result"
    }
   ],
   "source": [
    "3 + 4.6"
   ]
  },
  {
   "cell_type": "markdown",
   "metadata": {},
   "source": [
    "- We said that Python cannot do operations on different data types... Unless it can!\n",
    "- Some **Implicit** type conversion is executed here.\n",
    "- **Implicit Type Conversion**: The interpreter automatically converts one data type to another. Like the example above.\n",
    "- By contrast, **explicit conversion** is where we manually convert from one data type to another by calling the relevant function for the data type we want to convert to. Like converting a number to a string: `str(5)`."
   ]
  },
  {
   "cell_type": "code",
   "execution_count": 9,
   "metadata": {},
   "outputs": [
    {
     "data": {
      "text/plain": [
       "'Hello 5'"
      ]
     },
     "execution_count": 9,
     "metadata": {},
     "output_type": "execute_result"
    }
   ],
   "source": [
    "\"Hello \" + str(5)"
   ]
  },
  {
   "cell_type": "markdown",
   "metadata": {},
   "source": [
    "# 4.3 Comments"
   ]
  },
  {
   "cell_type": "code",
   "execution_count": 13,
   "metadata": {},
   "outputs": [
    {
     "name": "stdout",
     "output_type": "stream",
     "text": [
      "hi\n"
     ]
    }
   ],
   "source": [
    "print('hi')  # this will print hi to the screen, wow!"
   ]
  },
  {
   "cell_type": "code",
   "execution_count": 12,
   "metadata": {},
   "outputs": [
    {
     "name": "stdout",
     "output_type": "stream",
     "text": [
      "hi\n"
     ]
    }
   ],
   "source": [
    "# TODO - document this stuff\n",
    "print('hi')"
   ]
  },
  {
   "cell_type": "code",
   "execution_count": 11,
   "metadata": {},
   "outputs": [],
   "source": [
    "# print('hello')"
   ]
  },
  {
   "cell_type": "code",
   "execution_count": null,
   "metadata": {},
   "outputs": [],
   "source": [
    "# line 1\n",
    "# line 2"
   ]
  },
  {
   "cell_type": "markdown",
   "metadata": {},
   "source": [
    "# 4.4 Quizzes"
   ]
  },
  {
   "cell_type": "code",
   "execution_count": 14,
   "metadata": {},
   "outputs": [],
   "source": [
    "%run assessments/Assessments.ipynb"
   ]
  },
  {
   "cell_type": "code",
   "execution_count": 15,
   "metadata": {},
   "outputs": [
    {
     "name": "stdout",
     "output_type": "stream",
     "text": [
      "Question:: Two friends are eating dinner at a restaurant. The bill comes in the amount of 47.28 dollars. The friends decide to split the bill evenly between them, after adding 15% tip for the service. Calculate the tip, the total amount to pay, and each friend's share, then output a message saying 'Each person needs to pay: ' followed by the resulting number.\n",
      "\n",
      "Please solve the question and enter \"done\" to show our answer! done\n",
      "\n",
      "Our Answer::\n",
      "\n",
      "        bill = 47.28\n",
      "        tip = bill * 15 / 100\n",
      "        total = bill + tip\n",
      "        share = total / 2 \n",
      "        print(\"Each person needs to pay: \" + str(share))\n",
      "\n",
      "====================================================================================================\n",
      "\n",
      "Question:: Write a code that take two numbers, divide one by another and print the result.\n",
      "\n",
      "Please solve the question and enter \"done\" to show our answer! done\n",
      "\n",
      "Our Answer::\n",
      "\n",
      "        numerator = 20\n",
      "        denominator = 10\n",
      "        result = numerator / denominator\n",
      "        print(result)\n",
      "\n",
      "====================================================================================================\n",
      "\n",
      "Question:: Write a code that take two numbers, add them and print the equation including the result.\n",
      "\t>> Example: for 2 and 3 you should print '2 + 3 = 5'\n",
      "\n",
      "Please solve the question and enter \"done\" to show our answer! done\n",
      "\n",
      "Our Answer::\n",
      "\n",
      "        first_number  = 2\n",
      "        second_number = 3\n",
      "        print(str(first_number) + \" + \" + str(second_number) + \" = \" + str(first_number + second_number))\n",
      "\n",
      "====================================================================================================\n",
      "\n"
     ]
    }
   ],
   "source": [
    "assesment03_4.start()"
   ]
  },
  {
   "cell_type": "code",
   "execution_count": 16,
   "metadata": {},
   "outputs": [
    {
     "name": "stdout",
     "output_type": "stream",
     "text": [
      "Question:: What do you call a combination of numbers, symbols, or other values that produce a result when evaluated?\n",
      "\n",
      "Options ::\n",
      "\t>> a: An explicit conversion\n",
      "\t>> b: An expression\n",
      "\t>> c: A variable\n",
      "\t>> d: An implicit conversion\n",
      "\n",
      "Enter your answer: b\n",
      "True\n",
      "\n",
      "====================================================================================================\n",
      "\n"
     ]
    }
   ],
   "source": [
    "assesment03_5.start()"
   ]
  },
  {
   "cell_type": "code",
   "execution_count": null,
   "metadata": {},
   "outputs": [],
   "source": [
    "bill = 47.28\n",
    "tip = bill * 0.15\n",
    "total = bill + tip\n",
    "print('Each person needs to pay: ' + strt(total/2))"
   ]
  }
 ],
 "metadata": {
  "kernelspec": {
   "display_name": "Python 3",
   "language": "python",
   "name": "python3"
  },
  "language_info": {
   "codemirror_mode": {
    "name": "ipython",
    "version": 3
   },
   "file_extension": ".py",
   "mimetype": "text/x-python",
   "name": "python",
   "nbconvert_exporter": "python",
   "pygments_lexer": "ipython3",
   "version": "3.8.3"
  }
 },
 "nbformat": 4,
 "nbformat_minor": 4
}
