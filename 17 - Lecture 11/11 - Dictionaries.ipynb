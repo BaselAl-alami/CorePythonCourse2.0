{
 "cells": [
  {
   "cell_type": "markdown",
   "metadata": {},
   "source": [
    "# 11.1 `dict`ionaries"
   ]
  },
  {
   "cell_type": "markdown",
   "metadata": {},
   "source": [
    "- Like `list`s; `dict`ionaries are used to organize elements into collections.\n",
    "- Unlike `list`s; you don't access elements inside `dict`ionaries using their position (index).\n",
    "- Instead, **the data inside `dict`ionaries take the form of keys and values**."
   ]
  },
  {
   "cell_type": "code",
   "execution_count": null,
   "metadata": {},
   "outputs": [],
   "source": [
    "x = {}  # Empty dictionary\n",
    "\n",
    "print(type(x))"
   ]
  },
  {
   "cell_type": "code",
   "execution_count": null,
   "metadata": {},
   "outputs": [],
   "source": [
    "numbers = {1: \"One\", 2: \"Two\", 3: \"Three\"}\n",
    "\n",
    "print(numbers)"
   ]
  },
  {
   "cell_type": "code",
   "execution_count": null,
   "metadata": {},
   "outputs": [],
   "source": [
    "file_counts = {\"jpg\": 10, \"txt\": 26, \"csv\": 50, \"py\": 1}\n",
    "print(file_counts)"
   ]
  },
  {
   "cell_type": "code",
   "execution_count": null,
   "metadata": {},
   "outputs": [],
   "source": [
    "file_counts = {\n",
    "    \"jpg\": 10,\n",
    "    \"txt\": 26,\n",
    "    \"csv\": 50,\n",
    "    \"py\": 1\n",
    "}\n",
    "\n",
    "print(file_counts)"
   ]
  },
  {
   "cell_type": "markdown",
   "metadata": {},
   "source": [
    "# 11.2 Access `dict`onaries Data"
   ]
  },
  {
   "cell_type": "code",
   "execution_count": null,
   "metadata": {},
   "outputs": [],
   "source": [
    "file_counts[\"jpg\"]"
   ]
  },
  {
   "cell_type": "code",
   "execution_count": null,
   "metadata": {},
   "outputs": [],
   "source": [
    "file_counts[\"py\"]"
   ]
  },
  {
   "cell_type": "code",
   "execution_count": null,
   "metadata": {},
   "outputs": [],
   "source": [
    "file_counts[\"xyz\"]  # KeyError"
   ]
  },
  {
   "cell_type": "markdown",
   "metadata": {},
   "source": [
    "# 11.3 is `key` `in` the `dict`ionary?"
   ]
  },
  {
   "cell_type": "code",
   "execution_count": null,
   "metadata": {},
   "outputs": [],
   "source": [
    "\"jpg\" in file_counts"
   ]
  },
  {
   "cell_type": "code",
   "execution_count": null,
   "metadata": {},
   "outputs": [],
   "source": [
    "\"xyz\" in file_counts"
   ]
  },
  {
   "cell_type": "code",
   "execution_count": null,
   "metadata": {},
   "outputs": [],
   "source": [
    "key = 'xyz'\n",
    "\n",
    "if key in file_counts:\n",
    "    print(file_counts[key])\n",
    "else:\n",
    "    print(key + \" is NOT in file_counts dict\")"
   ]
  },
  {
   "cell_type": "code",
   "execution_count": null,
   "metadata": {},
   "outputs": [],
   "source": [
    "key = 'py'\n",
    "\n",
    "if key in file_counts:\n",
    "    print(file_counts[key])\n",
    "else:\n",
    "    print(key + \" is NOT in file_counts dict\")"
   ]
  },
  {
   "cell_type": "markdown",
   "metadata": {},
   "source": [
    "# 11.4 Modifying `dict`ionaries"
   ]
  },
  {
   "cell_type": "code",
   "execution_count": null,
   "metadata": {},
   "outputs": [],
   "source": [
    "print(file_counts)"
   ]
  },
  {
   "cell_type": "code",
   "execution_count": null,
   "metadata": {},
   "outputs": [],
   "source": [
    "file_counts[\"jpg\"] = 500\n",
    "\n",
    "print(file_counts)"
   ]
  },
  {
   "cell_type": "code",
   "execution_count": null,
   "metadata": {},
   "outputs": [],
   "source": [
    "file_counts['html'] = 30\n",
    "\n",
    "print(file_counts)"
   ]
  },
  {
   "cell_type": "code",
   "execution_count": null,
   "metadata": {},
   "outputs": [],
   "source": [
    "del file_counts['txt']\n",
    "\n",
    "print(file_counts)"
   ]
  },
  {
   "cell_type": "markdown",
   "metadata": {},
   "source": [
    "# 11.5 Iterating over the contents of a `dict`ionary"
   ]
  },
  {
   "cell_type": "code",
   "execution_count": null,
   "metadata": {},
   "outputs": [],
   "source": [
    "for extension in file_counts:\n",
    "    print(extension)"
   ]
  },
  {
   "cell_type": "code",
   "execution_count": null,
   "metadata": {},
   "outputs": [],
   "source": [
    "for extension in file_counts:\n",
    "    print(f'{extension} --> {file_counts[extension]}')"
   ]
  },
  {
   "cell_type": "code",
   "execution_count": null,
   "metadata": {},
   "outputs": [],
   "source": [
    "for extension, count in file_counts.items():\n",
    "    print(f'{extension} --> {count}')"
   ]
  },
  {
   "cell_type": "code",
   "execution_count": null,
   "metadata": {},
   "outputs": [],
   "source": [
    "keys = file_counts.keys()\n",
    "\n",
    "print(keys)\n",
    "print('=' * 25)\n",
    "\n",
    "for key in keys:\n",
    "    print(f'{key} --> {file_counts[key]}')"
   ]
  },
  {
   "cell_type": "code",
   "execution_count": null,
   "metadata": {},
   "outputs": [],
   "source": [
    "values = file_counts.values()\n",
    "\n",
    "print(values)\n",
    "print('=' * 25)\n",
    "\n",
    "for value in values:\n",
    "    print(value)"
   ]
  },
  {
   "cell_type": "markdown",
   "metadata": {},
   "source": [
    "# 11.6 More Examples"
   ]
  },
  {
   "cell_type": "markdown",
   "metadata": {},
   "source": [
    "### Ex. Write a fucntion that counts how many times a letter appears in a piece of text."
   ]
  },
  {
   "cell_type": "code",
   "execution_count": null,
   "metadata": {},
   "outputs": [],
   "source": [
    "def count_letters(text):\n",
    "    result = {}\n",
    "    for letter in text:\n",
    "        if letter in result:\n",
    "            result[letter] += 1\n",
    "        else:\n",
    "            result[letter] = 1\n",
    "    return result"
   ]
  },
  {
   "cell_type": "code",
   "execution_count": null,
   "metadata": {},
   "outputs": [],
   "source": [
    "print(count_letters('hello world'))"
   ]
  },
  {
   "cell_type": "code",
   "execution_count": null,
   "metadata": {},
   "outputs": [],
   "source": [
    "print(count_letters('hello' * 50))"
   ]
  },
  {
   "cell_type": "code",
   "execution_count": null,
   "metadata": {},
   "outputs": [],
   "source": [
    "print(count_letters('whatever'))"
   ]
  },
  {
   "cell_type": "markdown",
   "metadata": {},
   "source": [
    "### Ex. Write a function that receives a list of tuples consists of a name and a group and return a dictionary of groups to names.\n",
    "- Example:\n",
    "    - Given\n",
    "    ```\n",
    "        [\n",
    "            ('Ali', 'Heros'),\n",
    "            ('Osama', 'x1'),\n",
    "            ('Noor', 'Heros'),\n",
    "            ('Raya', 'Pinky')\n",
    "        ]\n",
    "    ```\n",
    "    - You should return something like:\n",
    "    ```\n",
    "        {\n",
    "            'Heros': ['Ali', 'Noor'],\n",
    "            'x1': ['Osama'],\n",
    "            'Pinky':['Raya']\n",
    "        }\n",
    "     ```\n",
    "    - Note: Order is not important."
   ]
  },
  {
   "cell_type": "code",
   "execution_count": null,
   "metadata": {},
   "outputs": [],
   "source": [
    "def map_groups(values):\n",
    "    groups = {}\n",
    "    for name, group in values:\n",
    "        if group in groups:\n",
    "            groups[group].append(name)\n",
    "        else:\n",
    "            groups[group] = [name]\n",
    "    return groups"
   ]
  },
  {
   "cell_type": "code",
   "execution_count": null,
   "metadata": {},
   "outputs": [],
   "source": [
    "print(map_groups( [('Ali', 'Heros'), ('Osama', 'x1'), ('Noor', 'Heros'), ('Raya', 'Pinky')]))"
   ]
  },
  {
   "cell_type": "markdown",
   "metadata": {},
   "source": [
    "# 11.7 Questions?"
   ]
  },
  {
   "cell_type": "code",
   "execution_count": null,
   "metadata": {},
   "outputs": [],
   "source": []
  }
 ],
 "metadata": {
  "kernelspec": {
   "display_name": "Python 3",
   "language": "python",
   "name": "python3"
  },
  "language_info": {
   "codemirror_mode": {
    "name": "ipython",
    "version": 3
   },
   "file_extension": ".py",
   "mimetype": "text/x-python",
   "name": "python",
   "nbconvert_exporter": "python",
   "pygments_lexer": "ipython3",
   "version": "3.8.3"
  }
 },
 "nbformat": 4,
 "nbformat_minor": 4
}
