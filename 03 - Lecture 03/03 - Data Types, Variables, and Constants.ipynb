{
 "cells": [
  {
   "cell_type": "markdown",
   "metadata": {},
   "source": [
    "# 3.1 Data Types"
   ]
  },
  {
   "cell_type": "code",
   "execution_count": null,
   "metadata": {},
   "outputs": [],
   "source": [
    "3 + 5"
   ]
  },
  {
   "cell_type": "code",
   "execution_count": null,
   "metadata": {},
   "outputs": [],
   "source": [
    "type(3 + 5)"
   ]
  },
  {
   "cell_type": "code",
   "execution_count": null,
   "metadata": {},
   "outputs": [],
   "source": [
    "\"Hello \" + \"World\""
   ]
  },
  {
   "cell_type": "code",
   "execution_count": null,
   "metadata": {},
   "outputs": [],
   "source": [
    "type(\"Hello \" + \"World\")"
   ]
  },
  {
   "cell_type": "code",
   "execution_count": null,
   "metadata": {},
   "outputs": [],
   "source": [
    "7 + \"8\"  # Don't do this!"
   ]
  },
  {
   "cell_type": "code",
   "execution_count": null,
   "metadata": {},
   "outputs": [],
   "source": [
    "type(9.3)"
   ]
  },
  {
   "cell_type": "code",
   "execution_count": null,
   "metadata": {},
   "outputs": [],
   "source": [
    "type(3 + 4.6)"
   ]
  },
  {
   "cell_type": "markdown",
   "metadata": {},
   "source": [
    "## QuickQuiz"
   ]
  },
  {
   "cell_type": "code",
   "execution_count": null,
   "metadata": {},
   "outputs": [],
   "source": [
    "%run assessments/Assessments.ipynb"
   ]
  },
  {
   "cell_type": "code",
   "execution_count": null,
   "metadata": {},
   "outputs": [],
   "source": [
    "assesment03_1.start()"
   ]
  },
  {
   "cell_type": "markdown",
   "metadata": {},
   "source": [
    "## Summary"
   ]
  },
  {
   "cell_type": "markdown",
   "metadata": {},
   "source": [
    "- Text in between quotes -- either single or double quotes -- is a string (**str**) data type.\n",
    "- An integer (**int**) is a whole number, without a fraction.\n",
    "- A **float** is a real number that can contain a fractional part.\n",
    "- For example, 1, 7, 342 are all integers, while 5.3, 3.14159 and 6.0 are all floats.\n",
    "- When attempting to mix incompatible data types, you may encounter a TypeError.\n",
    "- You can always check the data type of something using the **type()** function."
   ]
  },
  {
   "cell_type": "markdown",
   "metadata": {},
   "source": [
    "# 3.2 Variables"
   ]
  },
  {
   "cell_type": "markdown",
   "metadata": {},
   "source": [
    "- Variables are named containers that we give to certain memory locations in our program to hold certain values.\n",
    "- Variables can hold a value of any data type."
   ]
  },
  {
   "cell_type": "markdown",
   "metadata": {},
   "source": [
    "Ex. Calculate the area of a rectangle given its length and width:"
   ]
  },
  {
   "cell_type": "code",
   "execution_count": null,
   "metadata": {},
   "outputs": [],
   "source": [
    "length = 20  # This is a variable\n",
    "width = 10   # This is another variable\n",
    "area = length * width # This is a third variable\n",
    "print(\"Area is: \" + area)  # Opps! We said DON'T DO THAT! Fix it!"
   ]
  },
  {
   "cell_type": "markdown",
   "metadata": {},
   "source": [
    "Cannot fix it? Lazy You!\n",
    "Let me fix it for you :)"
   ]
  },
  {
   "cell_type": "code",
   "execution_count": null,
   "metadata": {},
   "outputs": [],
   "source": [
    "print(\"Area is: \" + str(area))"
   ]
  },
  {
   "cell_type": "markdown",
   "metadata": {},
   "source": [
    "- Above, we created 3 variables:\n",
    "    - length\n",
    "    - width\n",
    "    - area\n",
    "- The process of giving these variables some values (storing a value inside a variable) is called *Assignment*.\n",
    "    - length = 20  --> We assign the value 20 to the *length* variable\n",
    "    - width  = 10  --> You know! same as above.\n",
    "    - area   = length * width --> We assign the result of the *length* * *width* expression to the *area* variable. Expression?"
   ]
  },
  {
   "cell_type": "markdown",
   "metadata": {},
   "source": [
    "## QuickQuiz"
   ]
  },
  {
   "cell_type": "code",
   "execution_count": null,
   "metadata": {},
   "outputs": [],
   "source": [
    "assessment03_2.start()"
   ]
  },
  {
   "cell_type": "markdown",
   "metadata": {},
   "source": [
    "## More Boring Stuff\n",
    "\n",
    "\n",
    "### Identifiers and Keywords\n",
    "- An **identifier** is a **name** given to entities like class, functions, variables, etc. It helps to differentiate one entity from another.\n",
    "  - Identifiers are case sensetive, so: ONE, one, and One are three totaly different names in Python.\n",
    "- Keywords are the reserved words in Python.\n",
    "  - **We cannot use a keyword as a variable name, function name or any other identifier**. They are used to define the syntax and structure of the Python language.\n",
    "  - Keywords are case sensitive.\n",
    "  - Some keywords in Python: `True`, `False`, `if`, `else`, `for`, `while`, `in`, `none`, `or`, `and`, `not`, `return`... \n",
    "  \n",
    "  \n",
    "### Variables Naming (Identifiers) Restrictions / Rules\n",
    "- Don't use keywords or functions that Python reserves for its own. ( *Why would you?* :3)\n",
    "- Don't use spaces (use _ to split different words, like: do_stuff)\n",
    "- Must start with a letter or an underscore (They mean, don't start with a number! like 3a won't be a valid name, but a3 will be, but why will you name your variable a3? Don't!)\n",
    "- Don't use symbols! (yes, it's not your emojis game to add symbols here). One exception is the underscore ( _ ) and not the dash ( - ).\n",
    "\n",
    "All of the points above would feel natural and easy enough in the near future for you, but what won't feel the same this easy is to choose meaningful names. Focus on that instead."
   ]
  },
  {
   "cell_type": "markdown",
   "metadata": {},
   "source": [
    "## QuickQuiz"
   ]
  },
  {
   "cell_type": "code",
   "execution_count": null,
   "metadata": {},
   "outputs": [],
   "source": [
    "assesment03_3.start()"
   ]
  },
  {
   "cell_type": "markdown",
   "metadata": {},
   "source": [
    "# 3.3 Constants"
   ]
  },
  {
   "cell_type": "markdown",
   "metadata": {},
   "source": [
    "- A **constant** is like a variable whose value stays the same throughout the life of a program.\n",
    "- Python doesn’t have built-in constant types!\n",
    "- Python programmers use all capital letters to indicate a variable should be treated as a constant and never be changed."
   ]
  },
  {
   "cell_type": "code",
   "execution_count": 1,
   "metadata": {},
   "outputs": [
    {
     "name": "stdout",
     "output_type": "stream",
     "text": [
      "3.142857142857143\n"
     ]
    }
   ],
   "source": [
    "PI = 22/7\n",
    "\n",
    "print(PI)"
   ]
  },
  {
   "cell_type": "code",
   "execution_count": 2,
   "metadata": {},
   "outputs": [
    {
     "name": "stdout",
     "output_type": "stream",
     "text": [
      "6.285714285714286\n"
     ]
    }
   ],
   "source": [
    "print(2 * PI)"
   ]
  },
  {
   "cell_type": "code",
   "execution_count": 3,
   "metadata": {},
   "outputs": [
    {
     "name": "stdout",
     "output_type": "stream",
     "text": [
      "100\n"
     ]
    }
   ],
   "source": [
    "MAX_CONNECTIONS = 100\n",
    "\n",
    "print(MAX_CONNECTIONS)"
   ]
  },
  {
   "cell_type": "code",
   "execution_count": 4,
   "metadata": {},
   "outputs": [
    {
     "name": "stdout",
     "output_type": "stream",
     "text": [
      "4\n"
     ]
    }
   ],
   "source": [
    "# What if we update the value of a constant?\n",
    "\n",
    "PI = 4\n",
    "print(PI)"
   ]
  },
  {
   "cell_type": "markdown",
   "metadata": {},
   "source": [
    "# 3.4 Questions?"
   ]
  },
  {
   "cell_type": "code",
   "execution_count": null,
   "metadata": {},
   "outputs": [],
   "source": []
  }
 ],
 "metadata": {
  "kernelspec": {
   "display_name": "Python 3",
   "language": "python",
   "name": "python3"
  },
  "language_info": {
   "codemirror_mode": {
    "name": "ipython",
    "version": 3
   },
   "file_extension": ".py",
   "mimetype": "text/x-python",
   "name": "python",
   "nbconvert_exporter": "python",
   "pygments_lexer": "ipython3",
   "version": "3.8.3"
  }
 },
 "nbformat": 4,
 "nbformat_minor": 4
}
